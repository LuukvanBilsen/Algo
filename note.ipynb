{
 "cells": [
  {
   "cell_type": "code",
   "execution_count": 36,
   "metadata": {},
   "outputs": [
    {
     "data": {
      "text/plain": [
       "'Sum of all multiplications of 3 and 5 under given number: 233168'"
      ]
     },
     "execution_count": 36,
     "metadata": {},
     "output_type": "execute_result"
    }
   ],
   "source": [
    "#1\n",
    "'''Wanneer we de veelvouden van 3 en 5 van alle gehele getallen onder de 10 uitrekenen \n",
    "krijgen we de getallen 3, 5, 6 en 9. De som van deze vier getallen is 23.\n",
    "Geef de som van alle veelvouden van 3 en 5 onder de 1000.'''\n",
    "\n",
    "def veelVoud(lim=1000):\n",
    "    ans = 0\n",
    "    i = 1\n",
    "    \n",
    "    while (i<lim): \n",
    "        if i%3 == 0:\n",
    "            ans+=i\n",
    "        elif i%5 == 0:\n",
    "            ans+=i            \n",
    "        i+=1       \n",
    "    return \"Sum of all multiplications of 3 and 5 under given number: {}\".format(ans)\n",
    "\n",
    "veelVoud()"
   ]
  },
  {
   "cell_type": "code",
   "execution_count": 1,
   "metadata": {},
   "outputs": [
    {
     "data": {
      "text/plain": [
       "'all numbers: 9227463, only even numbers: 4613732'"
      ]
     },
     "execution_count": 1,
     "metadata": {},
     "output_type": "execute_result"
    }
   ],
   "source": [
    "#2\n",
    "'''Elk nieuw getal in de Fibonnaci-reeks wordt verkregen door de vorige twee getallen\n",
    "uit de reeks bij elkaar op te tellen. Wanneer we starten met de getallen 1 en 2 krijgen we de volgende reeks:\n",
    "1, 2, 3, 5, 8, 13, 21, 34, 55, 89, ...\n",
    "Geef de som van alle even Fibonacci-nummers onder de 4-miljoen.'''\n",
    "\n",
    "def fibbo(limit=4000000, smallNum=1, bigNum=2):\n",
    "    nextNum = 0\n",
    "    allNum = smallNum\n",
    "    evenNum = bigNum\n",
    "    \n",
    "    while nextNum < limit:    \n",
    "        allNum+=bigNum         \n",
    "        nextNum = smallNum + bigNum\n",
    "        #print(smallNum,bigNum, allNum) #for debug\n",
    "        smallNum = bigNum\n",
    "        bigNum = nextNum  \n",
    "        \n",
    "        if bigNum%2==0:\n",
    "            evenNum+=bigNum\n",
    "            \n",
    "        \n",
    "    return \"all numbers: {}, only even numbers: {}\".format(allNum,evenNum)\n",
    "   \n",
    "fibbo() #wrong output under 3 TODO: fix that if(limit<=3):"
   ]
  },
  {
   "cell_type": "code",
   "execution_count": 34,
   "metadata": {},
   "outputs": [
    {
     "data": {
      "text/plain": [
       "'The prime Factors of 600851475143 are: [71, 839, 1471, 6857] of which 6857 is the biggest'"
      ]
     },
     "execution_count": 34,
     "metadata": {},
     "output_type": "execute_result"
    }
   ],
   "source": [
    "#3\n",
    "'''De priem-factoren van 13195 zijn 5, 7, 13 en 29.\n",
    "Geef de grootste priem-factor van het getal 600851475143.'''\n",
    "\n",
    "import sympy\n",
    "primeList = list(sympy.primerange(0, 100000)) #can also get a list of primes as by exercise 10\n",
    "primeFacList = []\n",
    "\n",
    "def priemFac(number=600851475143):\n",
    "    counter = 0\n",
    "    numberForOutput = number\n",
    "    while number != 1:\n",
    "        if number%primeList[counter] != 0:\n",
    "            counter+=1\n",
    "        else:\n",
    "            primeFacList.append(primeList[counter])\n",
    "            number = number/primeList[counter]\n",
    "        \n",
    "    return \"The prime Factors of {} are: {} of which {} is the biggest\".format(numberForOutput, primeFacList, primeFacList[-1])\n",
    "\n",
    "priemFac() "
   ]
  },
  {
   "cell_type": "code",
   "execution_count": 33,
   "metadata": {},
   "outputs": [
    {
     "data": {
      "text/plain": [
       "'The biggest palindrome from numbers that are 3 digits is: 906609, from numbers: [913, 993]'"
      ]
     },
     "execution_count": 33,
     "metadata": {},
     "output_type": "execute_result"
    }
   ],
   "source": [
    "#4                                                \n",
    "'''Een Palindroom-nummer is een nummer dat, wanneer je het achterstevoren zet, \n",
    "precies hetzelfde nummer oplevert. Het grootste Palindroom-nummer dat gemaakt kan worden door twee \n",
    "2-cijfer getallen met elkaar te vermenigvuldigen is 9009 = 91 x 99.\n",
    "Geef het grootste Palindroom-getal dat gemaakt kan worden door twee 3-cijfer getallen met elkaar te vermenigvuldingen.'''\n",
    "\n",
    "\n",
    "def palindroom(lim=999):    \n",
    "    ans = [0,0]\n",
    "    biggestPal = 0\n",
    "    \n",
    "    for x in range(int(str(lim)[:-1]), lim):\n",
    "            for y in range(int(str(lim)[:-1]), lim):\n",
    "                pal = str(x*y)\n",
    "                if pal == pal[::-1] and int(pal) > biggestPal:\n",
    "                    biggestPal = int(pal)\n",
    "                    ans = [x,y]\n",
    "            \n",
    "    \n",
    "         \n",
    "    return \"The biggest palindrome from numbers that are {} digits is: {}, from numbers: {}\".format(len(str(lim)), biggestPal, ans)\n",
    "\n",
    "palindroom(999) #0 is right on test"
   ]
  },
  {
   "cell_type": "code",
   "execution_count": 16,
   "metadata": {},
   "outputs": [
    {
     "data": {
      "text/plain": [
       "'Smallest positive number that can be divided by 1 up to 20 is: 232792560'"
      ]
     },
     "execution_count": 16,
     "metadata": {},
     "output_type": "execute_result"
    }
   ],
   "source": [
    "#5\n",
    "'''2520 is het kleinste getal dat kan worden gedeeld door alle gehele getallen 1 tot en met 10 zonder een restdeling.\n",
    "Geef het kleinste positieve gehele getal dat gedeeld kan worden door alle gehele getallen 1 tot en met 20 zonder restdeling.'''\n",
    "\n",
    "def smallNum():\n",
    "    ans = 1  #(11*13*14*15*17*19*20)=193993800 #(11*13*17*19)=46189 to small\n",
    "    \n",
    "    bigKnown = 11*12*13*14*15*16*17*18*19*20\n",
    "    \n",
    "    while True: # ans <= bigKnown:       \n",
    "        if (ans%11== 0 and ans%12==0 and ans%13==0 and ans%14==0 and ans%15==0 and ans%16==0 and ans%17==0 and ans%18==0 and ans%19==0 and ans%20==0):\n",
    "            return \"Smallest positive number that can be divided by 1 up to 20 is: {}\".format(ans) \n",
    "        ans+=1\n",
    "    return \"\"\n",
    "\n",
    "smallNum()#slow, see 10, get rid of while, better way to check for remainder?, start from bigger number"
   ]
  },
  {
   "cell_type": "code",
   "execution_count": 30,
   "metadata": {},
   "outputs": [
    {
     "data": {
      "text/plain": [
       "'The difference between the square of the individuel numbers: 338350 and the square of the sum: 25502500 is: 25164150'"
      ]
     },
     "execution_count": 30,
     "metadata": {},
     "output_type": "execute_result"
    }
   ],
   "source": [
    "#6\n",
    "'''Het verschil tussen de som van alle kwadraten van de eerste tien gehele getallen en het kwadraat van de som is \n",
    "3025 − 385 = 2640.\n",
    "Geef het verschil tussen de som van alle kwadraten van de eerste honderd getallen en het kwadraat van de som.'''\n",
    "\n",
    "def diff(lim=100):\n",
    "    sqrIndi = 0\n",
    "    sqrSum = 0\n",
    "    \n",
    "    while lim > 0:\n",
    "        sqrIndi += (lim**2)\n",
    "        sqrSum += lim\n",
    "        lim -= 1\n",
    "        \n",
    "   \n",
    "    sqrSum = sqrSum**2\n",
    "    return \"The difference between the square of the individuel numbers: {} and the square of the sum: {} is: {}\".format(sqrIndi, sqrSum, (sqrSum - sqrIndi))\n",
    "\n",
    "\n",
    "diff()"
   ]
  },
  {
   "cell_type": "code",
   "execution_count": 48,
   "metadata": {},
   "outputs": [
    {
     "data": {
      "text/plain": [
       "'The 10001-ste prime number is: 104743'"
      ]
     },
     "execution_count": 48,
     "metadata": {},
     "output_type": "execute_result"
    }
   ],
   "source": [
    "#7\n",
    "'''De eerste zes priem-getallen zijn 2, 3, 5, 7, 11, and 13. \n",
    "Daaruit kunnen we concluderen dat het zesde priem-getal het getal 13 is.\n",
    "Geef het 10001e priem-getal.'''\n",
    "\n",
    "def prime(lim=9999999999999999, primeNumber=10001): #doesnt matter how big lim is we break when the list got 10001 primes\n",
    "    primeList = []    \n",
    "    \n",
    "    for counter in range(2, lim):\n",
    "        isPrime = True\n",
    "        for possDivNumber in range(2, int(counter**0.5)+1): \n",
    "            if counter%possDivNumber==0:\n",
    "                isPrime = False\n",
    "                break            \n",
    "        if (isPrime):\n",
    "            primeList.append(counter)\n",
    "            if len(primeList) == (primeNumber):\n",
    "                break;\n",
    "                \n",
    "    return \"The {}-ste prime number is: {}\".format(primeNumber, primeList[10000])\n",
    "prime() "
   ]
  },
  {
   "cell_type": "code",
   "execution_count": 9,
   "metadata": {},
   "outputs": [
    {
     "data": {
      "text/plain": [
       "'The biggest product of 13 adjecent numbers is: 23514624000'"
      ]
     },
     "execution_count": 9,
     "metadata": {},
     "output_type": "execute_result"
    }
   ],
   "source": [
    "#8\n",
    "'''Vind de dertien aangrenzende getallen in het 1000-cijfer getal dat het grootste product geeft. \n",
    "Geef de waarde van dit product.'''\n",
    "\n",
    "def bigProd():\n",
    "    bigNum = 7316717653133062491922511967442657474235534919493496983520312774506326239578318016984801869478851843858615607891129494954595017379583319528532088055111254069874715852386305071569329096329522744304355766896648950445244523161731856403098711121722383113622298934233803081353362766142828064444866452387493035890729629049156044077239071381051585930796086670172427121883998797908792274921901699720888093776657273330010533678812202354218097512545405947522435258490771167055601360483958644670632441572215539753697817977846174064955149290862569321978468622482839722413756570560574902614079729686524145351004748216637048440319989000889524345065854122758866688116427171479924442928230863465674813919123162824586178664583591245665294765456828489128831426076900422421902267105562632111110937054421750694165896040807198403850962455444362981230987879927244284909188845801561660979191338754992005240636899125607176060588611646710940507754100225698315520005593572972571636269561882670428252483600823257530420752963450\n",
    "\n",
    "    bigNumStr = str(bigNum)\n",
    "    counter = 0\n",
    "    ints = []\n",
    "\n",
    "    while (counter < 999):\n",
    "        prod = 1        \n",
    "        for x in bigNumStr[counter:(counter+13)]:\n",
    "            prod*=int(x) #could make it break and counter skip 13 on prod == 0, but this is fast enough\n",
    "        \n",
    "        ints.append(prod)\n",
    "        counter+=1\n",
    "    \n",
    "    return \"The biggest product of 13 adjecent numbers is: {}\".format(max(ints))\n",
    "\n",
    "bigProd()"
   ]
  },
  {
   "cell_type": "code",
   "execution_count": 15,
   "metadata": {},
   "outputs": [
    {
     "data": {
      "text/plain": [
       "'Time this took: 0:00:44.931082; a is 200, b is 375, c is 425 for the only Pythagorees triplet under 1000 for which a+b+c=1000, multiplication of these 3 numbers is: 31875000'"
      ]
     },
     "execution_count": 15,
     "metadata": {},
     "output_type": "execute_result"
    }
   ],
   "source": [
    "#9                                          TODO make zoom\n",
    "import datetime\n",
    "'''Een Pythagorees drietal is een set van drie natuurlijke nummers, \n",
    "a < b < c waar de volgende stelling voor geldt:\n",
    "\n",
    "a**2 + b**2 = c**2\n",
    "Bijvoorbeeld, 3**2 + 4**2 = 5**2 = 9 + 16 = 25.\n",
    "\n",
    "Er bestaat precies 1 Pythagorees drietal waarvoor geldt dat \n",
    "a + b + c gelijk is aan 1000. \n",
    "Geef de vermenigvuldiging van deze drie getallen a, b en c.'''\n",
    "\n",
    "def pytho(target=1000):\n",
    "    start = datetime.datetime.now()\n",
    "    \n",
    "    for a in range(1, 300):\n",
    "        for b in range(1, 400):\n",
    "            for c in range(1, 500):\n",
    "                \n",
    "                if a+b+c > 1000:break\n",
    "                    \n",
    "                if (a**2)+(b**2)==(c**2) and a+b+c==target:\n",
    "                    end = datetime.datetime.now()\n",
    "                    time = end-start\n",
    "                    return \"Time this took: {}; a is {}, b is {}, c is {} for the only Pythagorees triplet under 1000 for which a+b+c=1000, multiplication of these 3 numbers is: {}\".format(time, a,b,c,(a*b*c))\n",
    "    \n",
    "    \n",
    "    return \"00f\"\n",
    "\n",
    "pytho()"
   ]
  },
  {
   "cell_type": "code",
   "execution_count": 14,
   "metadata": {},
   "outputs": [
    {
     "data": {
      "text/plain": [
       "'The sum of all primes under 2000000 is: 142913828922'"
      ]
     },
     "execution_count": 14,
     "metadata": {},
     "output_type": "execute_result"
    }
   ],
   "source": [
    "#10\n",
    "'''De som van alle priem-getallen onder de tien is 2 + 3 + 5 + 7 = 17.\n",
    "Geef de som van alle priem-getallen onder 2-miljoen.'''\n",
    "\n",
    "def primeSum(lim=2000000):\n",
    "    sumOfPrimes = 0    \n",
    "    \n",
    "    for counter in range(2, lim):\n",
    "        isPrime = True\n",
    "        \n",
    "        for possDivNumber in range(2, int(counter**0.5)+1): \n",
    "            if counter%possDivNumber==0:\n",
    "                isPrime = False\n",
    "                break    \n",
    "                \n",
    "        if (isPrime):\n",
    "            sumOfPrimes += counter\n",
    "            \n",
    "    return \"The sum of all primes under {} is: {}\".format(lim, sumOfPrimes)\n",
    "\n",
    "primeSum() \n",
    "#for: is faster in python\n",
    "#doesnt do work twice\n",
    "#instead of 6 minutes on desktop, 20 sec on laptop\n",
    "#TODO: change var names that are not relevant anymore"
   ]
  }
 ],
 "metadata": {
  "kernelspec": {
   "display_name": "Python 3",
   "language": "python",
   "name": "python3"
  },
  "language_info": {
   "codemirror_mode": {
    "name": "ipython",
    "version": 3
   },
   "file_extension": ".py",
   "mimetype": "text/x-python",
   "name": "python",
   "nbconvert_exporter": "python",
   "pygments_lexer": "ipython3",
   "version": "3.7.4"
  }
 },
 "nbformat": 4,
 "nbformat_minor": 2
}
