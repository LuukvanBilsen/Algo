{
 "cells": [
  {
   "cell_type": "code",
   "execution_count": 97,
   "metadata": {},
   "outputs": [
    {
     "data": {
      "text/plain": [
       "233168"
      ]
     },
     "execution_count": 97,
     "metadata": {},
     "output_type": "execute_result"
    }
   ],
   "source": [
    "'''Wanneer we de veelvouden van 3 en 5 van alle gehele getallen onder de 10 uitrekenen \n",
    "krijgen we de getallen 3, 5, 6 en 9. De som van deze vier getallen is 23.\n",
    "Geef de som van alle veelvouden van 3 en 5 onder de 1000.'''\n",
    "\n",
    "def veelVoud(lim=1000):\n",
    "    ans = 0\n",
    "    i = 1\n",
    "    while (i<lim): \n",
    "        if i%3 == 0:\n",
    "            ans+=i\n",
    "        elif i%5 == 0:\n",
    "            ans+=i            \n",
    "        i+=1       \n",
    "    return(ans)\n",
    "\n",
    "veelVoud()"
   ]
  },
  {
   "cell_type": "code",
   "execution_count": 96,
   "metadata": {},
   "outputs": [
    {
     "data": {
      "text/plain": [
       "19"
      ]
     },
     "execution_count": 96,
     "metadata": {},
     "output_type": "execute_result"
    }
   ],
   "source": [
    "'''Elk nieuw getal in de Fibonnaci-reeks wordt verkregen door de vorige twee getallen\n",
    "uit de reeks bij elkaar op te tellen. Wanneer we starten met de getallen 1 en 2 krijgen we de volgende reeks:\n",
    "1, 2, 3, 5, 8, 13, 21, 34, 55, 89, ...\n",
    "Geef de som van alle even Fibonacci-nummers onder de 4-miljoen.'''\n",
    "\n",
    "def fibbo(limit, smallNum=1, bigNum=2):\n",
    "    nextNum = 0\n",
    "    ans = smallNum\n",
    "    \n",
    "    while nextNum < limit:    \n",
    "        ans+=bigNum \n",
    "        \n",
    "        nextNum = smallNum + bigNum\n",
    "        #print(smallNum,bigNum, nextNum) #for debug\n",
    "        smallNum = bigNum\n",
    "        bigNum = nextNum  \n",
    "        \n",
    "    return ans\n",
    "   \n",
    "fibbo(9) #wrong output under 3"
   ]
  }
 ],
 "metadata": {
  "kernelspec": {
   "display_name": "Python 3",
   "language": "python",
   "name": "python3"
  },
  "language_info": {
   "codemirror_mode": {
    "name": "ipython",
    "version": 3
   },
   "file_extension": ".py",
   "mimetype": "text/x-python",
   "name": "python",
   "nbconvert_exporter": "python",
   "pygments_lexer": "ipython3",
   "version": "3.7.3"
  }
 },
 "nbformat": 4,
 "nbformat_minor": 2
}
