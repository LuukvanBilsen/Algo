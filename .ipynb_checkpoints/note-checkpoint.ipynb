{
 "cells": [
  {
   "cell_type": "code",
   "execution_count": 8,
   "metadata": {},
   "outputs": [
    {
     "data": {
      "text/plain": [
       "'Sum of all multiplications of 3 and 5 under given number: 233168'"
      ]
     },
     "execution_count": 8,
     "metadata": {},
     "output_type": "execute_result"
    }
   ],
   "source": [
    "'''Wanneer we de veelvouden van 3 en 5 van alle gehele getallen onder de 10 uitrekenen \n",
    "krijgen we de getallen 3, 5, 6 en 9. De som van deze vier getallen is 23.\n",
    "Geef de som van alle veelvouden van 3 en 5 onder de 1000.'''\n",
    "\n",
    "def veelVoud(lim=1000):\n",
    "    ans = 0\n",
    "    i = 1\n",
    "    \n",
    "    while (i<lim): \n",
    "        if i%3 == 0:\n",
    "            ans+=i\n",
    "        elif i%5 == 0:\n",
    "            ans+=i            \n",
    "        i+=1       \n",
    "    return \"Sum of all multiplications of 3 and 5 under given number: {}\".format(ans)\n",
    "\n",
    "veelVoud()"
   ]
  },
  {
   "cell_type": "code",
   "execution_count": 9,
   "metadata": {},
   "outputs": [
    {
     "data": {
      "text/plain": [
       "'all numbers: 9227463, only even numbers: 4613732'"
      ]
     },
     "execution_count": 9,
     "metadata": {},
     "output_type": "execute_result"
    }
   ],
   "source": [
    "'''Elk nieuw getal in de Fibonnaci-reeks wordt verkregen door de vorige twee getallen\n",
    "uit de reeks bij elkaar op te tellen. Wanneer we starten met de getallen 1 en 2 krijgen we de volgende reeks:\n",
    "1, 2, 3, 5, 8, 13, 21, 34, 55, 89, ...\n",
    "Geef de som van alle even Fibonacci-nummers onder de 4-miljoen.'''\n",
    "\n",
    "def fibbo(limit, smallNum=1, bigNum=2):\n",
    "    nextNum = 0\n",
    "    allNum = smallNum\n",
    "    evenNum = bigNum\n",
    "    \n",
    "    while nextNum < limit:    \n",
    "        allNum+=bigNum         \n",
    "        nextNum = smallNum + bigNum\n",
    "        #print(smallNum,bigNum, allNum) #for debug\n",
    "        smallNum = bigNum\n",
    "        bigNum = nextNum  \n",
    "        \n",
    "        if bigNum%2==0:\n",
    "            evenNum+=bigNum\n",
    "            \n",
    "        \n",
    "    return \"all numbers: {}, only even numbers: {}\".format(allNum,evenNum)\n",
    "   \n",
    "fibbo(4000000) #wrong output under 3"
   ]
  },
  {
   "cell_type": "code",
   "execution_count": 10,
   "metadata": {},
   "outputs": [
    {
     "data": {
      "text/plain": [
       "[71, 839, 1471, 6857]"
      ]
     },
     "execution_count": 10,
     "metadata": {},
     "output_type": "execute_result"
    }
   ],
   "source": [
    "'''De priem-factoren van 13195 zijn 5, 7, 13 en 29.\n",
    "Geef de grootste priem-factor van het getal 600851475143.'''\n",
    "\n",
    "import sympy\n",
    "primeList = list(sympy.primerange(0, 100000))\n",
    "primeFacList = []\n",
    "\n",
    "def priemFac(number=600851475143):\n",
    "    counter = 0\n",
    "    \n",
    "    while number != 1:\n",
    "        if number%primeList[counter] != 0:\n",
    "            counter+=1\n",
    "        else:\n",
    "            primeFacList.append(primeList[counter])\n",
    "            number = number/primeList[counter]\n",
    "        \n",
    "    return (primeFacList)\n",
    "\n",
    "priemFac() "
   ]
  },
  {
   "cell_type": "code",
   "execution_count": 11,
   "metadata": {},
   "outputs": [
    {
     "data": {
      "text/plain": [
       "(90909, [999, 91])"
      ]
     },
     "execution_count": 11,
     "metadata": {},
     "output_type": "execute_result"
    }
   ],
   "source": [
    "'''Een Palindroom-nummer is een nummer dat, wanneer je het achterstevoren zet, \n",
    "precies hetzelfde nummer oplevert. Het grootste Palindroom-nummer dat gemaakt kan worden door twee \n",
    "2-cijfer getallen met elkaar te vermenigvuldigen is 9009 = 91 x 99.\n",
    "Geef het grootste Palindroom-getal dat gemaakt kan worden door twee 3-cijfer getallen met elkaar te vermenigvuldingen.'''\n",
    "\n",
    "\n",
    "def palindroom(lim=999):\n",
    "    numOne = lim\n",
    "    numTwo = lim\n",
    "    \n",
    "    biggestPal = 0\n",
    "    ans = [0,0]\n",
    "    \n",
    "    \n",
    "    while numOne>0:\n",
    "        while numTwo>0:\n",
    "            product = numOne*numTwo\n",
    "            productStr = str(product)\n",
    "\n",
    "\n",
    "            if productStr[0] == productStr[-1] and productStr[1] == productStr[-2] and productStr[2] == productStr[-3]:\n",
    "                if product > biggestPal:\n",
    "                    biggestPal = product\n",
    "                    ans[0] = numOne\n",
    "                    ans[1] = numTwo\n",
    "            numTwo-=1\n",
    "        numOne-=1\n",
    "            \n",
    "             \n",
    "    return biggestPal,ans\n",
    "\n",
    "palindroom(999) #for lim = smaller than 1000"
   ]
  },
  {
   "cell_type": "code",
   "execution_count": 12,
   "metadata": {},
   "outputs": [
    {
     "data": {
      "text/plain": [
       "232792560"
      ]
     },
     "execution_count": 12,
     "metadata": {},
     "output_type": "execute_result"
    }
   ],
   "source": [
    "'''2520 is het kleinste getal dat kan worden gedeeld door alle gehele getallen 1 tot en met 10 zonder een restdeling.\n",
    "Geef het kleinste positieve gehele getal dat gedeeld kan worden door alle gehele getallen 1 tot en met 20 zonder restdeling.'''\n",
    "\n",
    "def smallNum():\n",
    "    ans = 0\n",
    "    i = 1  #(11*13*14*15*17*19*20)=193993800 #(11*13*17*19)=46189\n",
    "    \n",
    "    bigKnown = 11*12*13*14*15*16*17*18*19*20\n",
    "    \n",
    "    while i<=bigKnown:\n",
    "       \n",
    "        if (i%11== 0 and i%12==0 and i%13==0 and i%14==0 and i%15==0 and i%16==0 and i%17==0 and i%18==0 and i%19==0 and i%20==0):\n",
    "            return i \n",
    "        i+=1\n",
    "    return 0\n",
    "\n",
    "smallNum()#slow, see 10, get rid of while"
   ]
  },
  {
   "cell_type": "code",
   "execution_count": 13,
   "metadata": {},
   "outputs": [
    {
     "data": {
      "text/plain": [
       "25164150"
      ]
     },
     "execution_count": 13,
     "metadata": {},
     "output_type": "execute_result"
    }
   ],
   "source": [
    "'''\n",
    "Het verschil tussen de som van alle kwadraten van de eerste tien gehele getallen en het kwadraat van de som is \n",
    "3025 − 385 = 2640.\n",
    "Geef het verschil tussen de som van alle kwadraten van de eerste honderd getallen en het kwadraat van de som.'''\n",
    "\n",
    "def diff(limit=100):\n",
    "    kwadIndividu = 0\n",
    "    KwadTogether = 0\n",
    "    \n",
    "    while limit > 0:\n",
    "        kwadIndividu += (limit**2)\n",
    "        KwadTogether += limit\n",
    "        limit -= 1\n",
    "        \n",
    "   \n",
    "    KwadTogether = KwadTogether**2\n",
    "    return KwadTogether - kwadIndividu\n",
    "\n",
    "\n",
    "diff()"
   ]
  },
  {
   "cell_type": "code",
   "execution_count": 25,
   "metadata": {},
   "outputs": [
    {
     "data": {
      "text/plain": [
       "104743"
      ]
     },
     "execution_count": 25,
     "metadata": {},
     "output_type": "execute_result"
    }
   ],
   "source": [
    "'''De eerste zes priem-getallen zijn 2, 3, 5, 7, 11, and 13. \n",
    "Daaruit kunnen we concluderen dat het zesde priem-getal het getal 13 is.\n",
    "Geef het 10001e priem-getal.'''\n",
    "\n",
    "def prime(lim=999999): \n",
    "    primeList = [0]    \n",
    "    \n",
    "    for counter in range(2, lim):\n",
    "        isPrime = True\n",
    "        for possDivNumber in range(2, int(counter**0.5)+1): \n",
    "            if counter%possDivNumber==0:\n",
    "                isPrime = False\n",
    "                break            \n",
    "        if (isPrime):\n",
    "            primeList.append(counter)\n",
    "            if len(primeList) == 10002:\n",
    "                break;\n",
    "    return primeList[10001]\n",
    "prime() "
   ]
  },
  {
   "cell_type": "code",
   "execution_count": 15,
   "metadata": {},
   "outputs": [
    {
     "name": "stdout",
     "output_type": "stream",
     "text": [
      "['7316717653133', '6249192251196744265747423553491949349698352', '6326239578318', '18694788518438586156', '7891129494954595', '17379583319528532', '698747158523863', '435576689664895', '4452445231617318564', '987111217223831136222989342338', '81353362766142828', '64444866452387493', '1724271218839987979', '9377665727333', '594752243525849', '632441572215539753697817977846174', '86256932197846862248283972241375657', '79729686524145351', '6585412275886668811642717147992444292823', '863465674813919123162824586178664583591245665294765456828489128831426', '96245544436298123', '9878799272442849', '979191338754992', '559357297257163626956188267'] \n"
     ]
    }
   ],
   "source": [
    "'''Vind de dertien aangrenzende getallen in het 1000-cijfer getal dat het grootste product geeft. \n",
    "Geef de waarde van dit product.'''\n",
    "bigNum = 7316717653133062491922511967442657474235534919493496983520312774506326239578318016984801869478851843858615607891129494954595017379583319528532088055111254069874715852386305071569329096329522744304355766896648950445244523161731856403098711121722383113622298934233803081353362766142828064444866452387493035890729629049156044077239071381051585930796086670172427121883998797908792274921901699720888093776657273330010533678812202354218097512545405947522435258490771167055601360483958644670632441572215539753697817977846174064955149290862569321978468622482839722413756570560574902614079729686524145351004748216637048440319989000889524345065854122758866688116427171479924442928230863465674813919123162824586178664583591245665294765456828489128831426076900422421902267105562632111110937054421750694165896040807198403850962455444362981230987879927244284909188845801561660979191338754992005240636899125607176060588611646710940507754100225698315520005593572972571636269561882670428252483600823257530420752963450\n",
    "bigNumStr = str(bigNum)\n",
    "\n",
    "smallerNums = []\n",
    "while len(bigNumStr) > 0:\n",
    "    x = bigNumStr[0:bigNumStr.find('0')]\n",
    "    if len(x)> 12:\n",
    "        smallerNums.append(x)\n",
    "    bigNumStr=bigNumStr[bigNumStr.find('0')+1:]\n",
    "\n",
    "print(smallerNums, bigNumStr)"
   ]
  },
  {
   "cell_type": "code",
   "execution_count": 16,
   "metadata": {},
   "outputs": [
    {
     "name": "stdout",
     "output_type": "stream",
     "text": [
      "0\n"
     ]
    }
   ],
   "source": [
    "'''Een Pythagorees drietal is een set van drie natuurlijke nummers, \n",
    "a < b < c waar de volgende stelling voor geldt:\n",
    "\n",
    "a**2 + b**2 = c**2\n",
    "Bijvoorbeeld, 3**2 + 4**2 = 5**2 = 9 + 16 = 25.\n",
    "\n",
    "Er bestaat precies 1 Pythagorees drietal waarvoor geldt dat \n",
    "a + b + c gelijk is aan 1000. \n",
    "Geef de vermenigvuldiging van deze drie getallen a, b en c.'''\n",
    "\n",
    "print(0)"
   ]
  },
  {
   "cell_type": "code",
   "execution_count": 17,
   "metadata": {},
   "outputs": [
    {
     "data": {
      "text/plain": [
       "142913828922"
      ]
     },
     "execution_count": 17,
     "metadata": {},
     "output_type": "execute_result"
    }
   ],
   "source": [
    "'''De som van alle priem-getallen onder de tien is 2 + 3 + 5 + 7 = 17.\n",
    "Geef de som van alle priem-getallen onder 2-miljoen.'''\n",
    "\n",
    "def primeSum(lim=2000000):\n",
    "    sumOfPrimes = 0\n",
    "    primeList = [0]    \n",
    "    \n",
    "    for counter in range(2, lim):\n",
    "        isPrime = True\n",
    "        for possDivNumber in range(2, int(counter**0.5)+1): \n",
    "            if counter%possDivNumber==0:\n",
    "                isPrime = False\n",
    "                break            \n",
    "        if (isPrime):\n",
    "            primeList.append(counter)\n",
    "            sumOfPrimes += counter\n",
    "    return sumOfPrimes\n",
    "\n",
    "\n",
    "primeSum() \n",
    "#for: is faster in python\n",
    "#doesnt do work twice\n",
    "#instead of 6 minutes on desktop, 20 sec on laptop\n",
    "#TODO: change var names that are not relevant anymore"
   ]
  }
 ],
 "metadata": {
  "kernelspec": {
   "display_name": "Python 3",
   "language": "python",
   "name": "python3"
  },
  "language_info": {
   "codemirror_mode": {
    "name": "ipython",
    "version": 3
   },
   "file_extension": ".py",
   "mimetype": "text/x-python",
   "name": "python",
   "nbconvert_exporter": "python",
   "pygments_lexer": "ipython3",
   "version": "3.7.3"
  }
 },
 "nbformat": 4,
 "nbformat_minor": 2
}
